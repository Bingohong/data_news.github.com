{
 "cells": [
  {
   "cell_type": "code",
   "execution_count": 1,
   "metadata": {
    "collapsed": true
   },
   "outputs": [],
   "source": [
    "import numpy as np\n",
    "import pandas as pd\n",
    "import requests\n",
    "import time\n",
    "import os\n",
    "path=r\"F:...\\2017_data_news\\非物质文化遗产\"\n",
    "os.chdir(path)\n",
    "#os模块提供系统文件搜索路径，可使用os.chdir()-改变路径,os.path.join()-组合为绝对路径\n",
    "#sys.path.append(path)\n",
    "# requests提供url访问服务"
   ]
  },
  {
   "cell_type": "markdown",
   "metadata": {},
   "source": [
    "### 1.基础数据导入"
   ]
  },
  {
   "cell_type": "code",
   "execution_count": 235,
   "metadata": {
    "collapsed": true
   },
   "outputs": [],
   "source": [
    "#导入非物质文化遗产信息\n",
    "Cul_heritage=pd.read_excel(r\"非遗名录-各批次.xlsx\",list(range(0,7)))"
   ]
  },
  {
   "cell_type": "code",
   "execution_count": 236,
   "metadata": {
    "collapsed": true
   },
   "outputs": [],
   "source": [
    "Cul_her=pd.concat([Cul_heritage[0],Cul_heritage[1],Cul_heritage[2],Cul_heritage[3],Cul_heritage[4],Cul_heritage[5]\n",
    "                  ,Cul_heritage[6]],ignore_index=True)"
   ]
  },
  {
   "cell_type": "code",
   "execution_count": 237,
   "metadata": {
    "collapsed": false,
    "scrolled": false
   },
   "outputs": [
    {
     "data": {
      "text/html": [
       "<div>\n",
       "<style>\n",
       "    .dataframe thead tr:only-child th {\n",
       "        text-align: right;\n",
       "    }\n",
       "\n",
       "    .dataframe thead th {\n",
       "        text-align: left;\n",
       "    }\n",
       "\n",
       "    .dataframe tbody tr th {\n",
       "        vertical-align: top;\n",
       "    }\n",
       "</style>\n",
       "<table border=\"1\" class=\"dataframe\">\n",
       "  <thead>\n",
       "    <tr style=\"text-align: right;\">\n",
       "      <th></th>\n",
       "      <th>时间</th>\n",
       "      <th>项目名称</th>\n",
       "      <th>申报地区或单位</th>\n",
       "      <th>民族</th>\n",
       "    </tr>\n",
       "  </thead>\n",
       "  <tbody>\n",
       "    <tr>\n",
       "      <th>0</th>\n",
       "      <td>2006.0</td>\n",
       "      <td>春节</td>\n",
       "      <td>中央文化部</td>\n",
       "      <td>NaN</td>\n",
       "    </tr>\n",
       "    <tr>\n",
       "      <th>1</th>\n",
       "      <td>2006.0</td>\n",
       "      <td>清明节</td>\n",
       "      <td>中央文化部</td>\n",
       "      <td>NaN</td>\n",
       "    </tr>\n",
       "    <tr>\n",
       "      <th>2</th>\n",
       "      <td>2006.0</td>\n",
       "      <td>端午节</td>\n",
       "      <td>中央文化部</td>\n",
       "      <td>NaN</td>\n",
       "    </tr>\n",
       "    <tr>\n",
       "      <th>3</th>\n",
       "      <td>2006.0</td>\n",
       "      <td>端午节（屈原故里端午习俗）</td>\n",
       "      <td>湖北省宜昌市秭归县</td>\n",
       "      <td>NaN</td>\n",
       "    </tr>\n",
       "    <tr>\n",
       "      <th>4</th>\n",
       "      <td>2006.0</td>\n",
       "      <td>端午节（西塞神舟会）</td>\n",
       "      <td>湖北省黄石市</td>\n",
       "      <td>NaN</td>\n",
       "    </tr>\n",
       "  </tbody>\n",
       "</table>\n",
       "</div>"
      ],
      "text/plain": [
       "       时间           项目名称    申报地区或单位   民族\n",
       "0  2006.0             春节      中央文化部  NaN\n",
       "1  2006.0            清明节      中央文化部  NaN\n",
       "2  2006.0            端午节      中央文化部  NaN\n",
       "3  2006.0  端午节（屈原故里端午习俗）  湖北省宜昌市秭归县  NaN\n",
       "4  2006.0     端午节（西塞神舟会）     湖北省黄石市  NaN"
      ]
     },
     "execution_count": 237,
     "metadata": {},
     "output_type": "execute_result"
    }
   ],
   "source": [
    "Cul_her.head()"
   ]
  },
  {
   "cell_type": "code",
   "execution_count": 238,
   "metadata": {
    "collapsed": false
   },
   "outputs": [
    {
     "data": {
      "text/plain": [
       "(424, 4)"
      ]
     },
     "execution_count": 238,
     "metadata": {},
     "output_type": "execute_result"
    }
   ],
   "source": [
    "Cul_her.shape"
   ]
  },
  {
   "cell_type": "code",
   "execution_count": 239,
   "metadata": {
    "collapsed": false
   },
   "outputs": [
    {
     "data": {
      "text/plain": [
       "RangeIndex(start=0, stop=424, step=1)"
      ]
     },
     "execution_count": 239,
     "metadata": {},
     "output_type": "execute_result"
    }
   ],
   "source": [
    "Cul_her.index"
   ]
  },
  {
   "cell_type": "markdown",
   "metadata": {
    "collapsed": true
   },
   "source": [
    "### 2.时间数据处理"
   ]
  },
  {
   "cell_type": "code",
   "execution_count": 240,
   "metadata": {
    "collapsed": true
   },
   "outputs": [],
   "source": [
    "#datetime.datetime类型用于保存时间对象\n",
    "#默认时间格式：%Y-%m-%d\n",
    "#时间对象转化为字符串，str()/strftime(\"%Y-%m-%d\")方法\n",
    "#字符串转化为时间对象，datetime.strptime(value,\"%Y-%m-%d\")/pd.to_datetime(value)方法\n",
    "from datetime import datetime\n",
    "time=Cul_her[\"时间\"].astype(\"str\")\n",
    "time=[itime.split(\".\")[0]+\"年\" for itime in time]\n",
    "Cul_her[\"时间\"]=time\n",
    "#字符串转化为时间对象\n",
    "#pdtime=pd.to_datetime(date[0])\n",
    "#strptime=datetime.strptime(date[0].split(\" \")[0],\"%m/%d/%Y\")#需要指定字符串的时间格式"
   ]
  },
  {
   "cell_type": "markdown",
   "metadata": {},
   "source": [
    "### 3.位置定位"
   ]
  },
  {
   "cell_type": "code",
   "execution_count": 142,
   "metadata": {
    "collapsed": true
   },
   "outputs": [],
   "source": [
    "#坐标变换为高德坐标\n",
    "def transform(location):\n",
    "    parameters = {'coordsys':'gps','locations': location, 'key': 'a65d57cafeb85818e82da28826ffc240'}\n",
    "    base = 'http://restapi.amap.com/v3/assistant/coordinate/convert'\n",
    "    response = requests.get(base, parameters)\n",
    "    answer = response.json()\n",
    "    return answer['locations']\n",
    "\n",
    "#地理坐标定位地理地址\n",
    "def reverse_geocode(location):\n",
    "    parameters = {'location': location, 'key': 'a65d57cafeb85818e82da28826ffc240'}\n",
    "    base = 'http://restapi.amap.com/v3/geocode/regeo'\n",
    "    response = requests.get(base, parameters)\n",
    "    answer = response.json()\n",
    "    return answer['regeocode']['addressComponent']\n",
    "\n",
    "#地理地址定位地理坐标\n",
    "def geocode(location):\n",
    "    parameters = {'address': location, 'key': 'a65d57cafeb85818e82da28826ffc240'}\n",
    "    base = 'http://restapi.amap.com/v3/geocode/geo'\n",
    "    response = requests.get(base, parameters)\n",
    "    answer = response.json()\n",
    "    return answer['geocodes']\n"
   ]
  },
  {
   "cell_type": "code",
   "execution_count": 241,
   "metadata": {
    "collapsed": true
   },
   "outputs": [],
   "source": [
    "#初始化列表\n",
    "province=[]\n",
    "city=[]\n",
    "district=[]\n",
    "township=[]\n",
    "location=[]"
   ]
  },
  {
   "cell_type": "code",
   "execution_count": null,
   "metadata": {
    "collapsed": true
   },
   "outputs": [],
   "source": [
    "#各项目经纬度信息\n",
    "locations=Cul_her.iloc[:,2]\n",
    "for ix in range(0,Cul_her.shape[0]):\n",
    "    ilocation=locations.loc[ix]  \n",
    "    address=geocode(ilocation)#地址定位坐标\n",
    "    #装载位置信息:省-市-县-镇-经纬度\n",
    "    try:\n",
    "        province.append(address[0][\"province\"])\n",
    "        city.append(address[0][\"city\"])\n",
    "        district.append(address[0][\"district\"])\n",
    "        township.append(address[0][\"township\"])\n",
    "        location.append(address[0][\"location\"])\n",
    "    except:\n",
    "        province.append(np.nan)\n",
    "        city.append(np.nan)\n",
    "        district.append(np.nan)\n",
    "        township.append(np.nan)\n",
    "        location.append(np.nan)"
   ]
  },
  {
   "cell_type": "code",
   "execution_count": 171,
   "metadata": {
    "collapsed": true
   },
   "outputs": [],
   "source": [
    "#将地址写入数据表\n",
    "Cul_her[\"province\"]=province\n",
    "Cul_her[\"city\"]=city\n",
    "\n",
    "Cul_her[\"district\"]=district\n",
    "Cul_her[\"township\"]=township\n",
    "\n",
    "Cul_her[\"location\"]=location"
   ]
  },
  {
   "cell_type": "code",
   "execution_count": 233,
   "metadata": {
    "collapsed": false
   },
   "outputs": [
    {
     "data": {
      "text/html": [
       "<div>\n",
       "<style>\n",
       "    .dataframe thead tr:only-child th {\n",
       "        text-align: right;\n",
       "    }\n",
       "\n",
       "    .dataframe thead th {\n",
       "        text-align: left;\n",
       "    }\n",
       "\n",
       "    .dataframe tbody tr th {\n",
       "        vertical-align: top;\n",
       "    }\n",
       "</style>\n",
       "<table border=\"1\" class=\"dataframe\">\n",
       "  <thead>\n",
       "    <tr style=\"text-align: right;\">\n",
       "      <th></th>\n",
       "      <th>时间</th>\n",
       "      <th>项目名称</th>\n",
       "      <th>申报地区或单位</th>\n",
       "      <th>民族</th>\n",
       "      <th>shijian</th>\n",
       "    </tr>\n",
       "  </thead>\n",
       "  <tbody>\n",
       "    <tr>\n",
       "      <th>0</th>\n",
       "      <td>2006.0</td>\n",
       "      <td>春节</td>\n",
       "      <td>中央文化部</td>\n",
       "      <td>NaN</td>\n",
       "      <td>2006年</td>\n",
       "    </tr>\n",
       "    <tr>\n",
       "      <th>1</th>\n",
       "      <td>2006.0</td>\n",
       "      <td>清明节</td>\n",
       "      <td>中央文化部</td>\n",
       "      <td>NaN</td>\n",
       "      <td>2006年</td>\n",
       "    </tr>\n",
       "    <tr>\n",
       "      <th>2</th>\n",
       "      <td>2006.0</td>\n",
       "      <td>端午节</td>\n",
       "      <td>中央文化部</td>\n",
       "      <td>NaN</td>\n",
       "      <td>2006年</td>\n",
       "    </tr>\n",
       "    <tr>\n",
       "      <th>3</th>\n",
       "      <td>2006.0</td>\n",
       "      <td>端午节（屈原故里端午习俗）</td>\n",
       "      <td>湖北省宜昌市秭归县</td>\n",
       "      <td>NaN</td>\n",
       "      <td>2006年</td>\n",
       "    </tr>\n",
       "    <tr>\n",
       "      <th>4</th>\n",
       "      <td>2006.0</td>\n",
       "      <td>端午节（西塞神舟会）</td>\n",
       "      <td>湖北省黄石市</td>\n",
       "      <td>NaN</td>\n",
       "      <td>2006年</td>\n",
       "    </tr>\n",
       "  </tbody>\n",
       "</table>\n",
       "</div>"
      ],
      "text/plain": [
       "       时间           项目名称    申报地区或单位   民族 shijian\n",
       "0  2006.0             春节      中央文化部  NaN   2006年\n",
       "1  2006.0            清明节      中央文化部  NaN   2006年\n",
       "2  2006.0            端午节      中央文化部  NaN   2006年\n",
       "3  2006.0  端午节（屈原故里端午习俗）  湖北省宜昌市秭归县  NaN   2006年\n",
       "4  2006.0     端午节（西塞神舟会）     湖北省黄石市  NaN   2006年"
      ]
     },
     "execution_count": 233,
     "metadata": {},
     "output_type": "execute_result"
    }
   ],
   "source": [
    "Cul_her.head()"
   ]
  },
  {
   "cell_type": "code",
   "execution_count": null,
   "metadata": {
    "collapsed": true
   },
   "outputs": [],
   "source": [
    "Cul_her.to_excel(\"非遗名录-汇总.xlsx\",\"all\",index=False)"
   ]
  },
  {
   "cell_type": "code",
   "execution_count": null,
   "metadata": {
    "collapsed": true
   },
   "outputs": [],
   "source": []
  }
 ],
 "metadata": {
  "kernelspec": {
   "display_name": "Python 3",
   "language": "python",
   "name": "python3"
  },
  "language_info": {
   "codemirror_mode": {
    "name": "ipython",
    "version": 3
   },
   "file_extension": ".py",
   "mimetype": "text/x-python",
   "name": "python",
   "nbconvert_exporter": "python",
   "pygments_lexer": "ipython3",
   "version": "3.6.0"
  }
 },
 "nbformat": 4,
 "nbformat_minor": 2
}
